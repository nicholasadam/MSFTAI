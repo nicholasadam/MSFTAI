{
 "cells": [
  {
   "cell_type": "code",
   "execution_count": 9,
   "metadata": {},
   "outputs": [],
   "source": [
    "import requests"
   ]
  },
  {
   "cell_type": "code",
   "execution_count": 10,
   "metadata": {},
   "outputs": [],
   "source": [
    "# Variables\n",
    "_region = 'westcentralus' #Here you enter the region of your subscription\n",
    "\n",
    "_url = 'https://{}.api.cognitive.microsoft.com/vision/v2.0/models'.format(_region)\n",
    "_key = '9438c593902948179871edf1cf0033c6' #Here you have to paste your primary key\n",
    "headers = dict()\n",
    "headers['Ocp-Apim-Subscription-Key'] = _key\n",
    "headers['Content-Type'] = 'application/octet-stream'\n",
    "json=None\n",
    "pathToFileInDisk = r'5.jpg'\n",
    "with open( pathToFileInDisk, 'rb' ) as f:\n",
    "    data = f.read()"
   ]
  },
  {
   "cell_type": "code",
   "execution_count": 11,
   "metadata": {},
   "outputs": [],
   "source": [
    "response = requests.request( 'get', _url, json = json, data = data, headers = headers)"
   ]
  },
  {
   "cell_type": "code",
   "execution_count": 12,
   "metadata": {},
   "outputs": [
    {
     "data": {
      "text/plain": [
       "{'models': [{'name': 'celebrities',\n",
       "   'categories': ['people_', '人_', 'pessoas_', 'gente_']},\n",
       "  {'name': 'landmarks',\n",
       "   'categories': ['outdoor_',\n",
       "    '户外_',\n",
       "    '屋外_',\n",
       "    'aoarlivre_',\n",
       "    'alairelibre_',\n",
       "    'building_',\n",
       "    '建筑_',\n",
       "    '建物_',\n",
       "    'edifício_']}]}"
      ]
     },
     "execution_count": 12,
     "metadata": {},
     "output_type": "execute_result"
    }
   ],
   "source": [
    "response.json()"
   ]
  },
  {
   "cell_type": "code",
   "execution_count": null,
   "metadata": {},
   "outputs": [],
   "source": []
  }
 ],
 "metadata": {
  "kernelspec": {
   "display_name": "Python 3",
   "language": "python",
   "name": "python3"
  },
  "language_info": {
   "codemirror_mode": {
    "name": "ipython",
    "version": 3
   },
   "file_extension": ".py",
   "mimetype": "text/x-python",
   "name": "python",
   "nbconvert_exporter": "python",
   "pygments_lexer": "ipython3",
   "version": "3.6.5"
  }
 },
 "nbformat": 4,
 "nbformat_minor": 2
}
